{
 "cells": [
  {
   "cell_type": "code",
   "execution_count": 1,
   "id": "c87051a9",
   "metadata": {},
   "outputs": [],
   "source": [
    "#importing libraries\n",
    "import pandas as pd\n",
    "import numpy as np\n",
    "import matplotlib.pyplot as mtp\n",
    "import seaborn as sns"
   ]
  },
  {
   "cell_type": "code",
   "execution_count": 2,
   "id": "2f7deaec",
   "metadata": {},
   "outputs": [
    {
     "name": "stdout",
     "output_type": "stream",
     "text": [
      "DATASET    Unnamed: 0                            key  fare_amount  \\\n",
      "0    24238194    2015-05-07 19:52:06.0000003          7.5   \n",
      "1    27835199    2009-07-17 20:04:56.0000002          7.7   \n",
      "2    44984355   2009-08-24 21:45:00.00000061         12.9   \n",
      "3    25894730    2009-06-26 08:22:21.0000001          5.3   \n",
      "4    17610152  2014-08-28 17:47:00.000000188         16.0   \n",
      "\n",
      "           pickup_datetime  pickup_longitude  pickup_latitude  \\\n",
      "0  2015-05-07 19:52:06 UTC        -73.999817        40.738354   \n",
      "1  2009-07-17 20:04:56 UTC        -73.994355        40.728225   \n",
      "2  2009-08-24 21:45:00 UTC        -74.005043        40.740770   \n",
      "3  2009-06-26 08:22:21 UTC        -73.976124        40.790844   \n",
      "4  2014-08-28 17:47:00 UTC        -73.925023        40.744085   \n",
      "\n",
      "   dropoff_longitude  dropoff_latitude  passenger_count  \n",
      "0         -73.999512         40.723217                1  \n",
      "1         -73.994710         40.750325                1  \n",
      "2         -73.962565         40.772647                1  \n",
      "3         -73.965316         40.803349                3  \n",
      "4         -73.973082         40.761247                5  \n",
      "\n",
      "\n",
      " 7 coloumn DATASET         fare_amount          pickup_datetime  pickup_longitude  \\\n",
      "0               7.5  2015-05-07 19:52:06 UTC        -73.999817   \n",
      "1               7.7  2009-07-17 20:04:56 UTC        -73.994355   \n",
      "2              12.9  2009-08-24 21:45:00 UTC        -74.005043   \n",
      "3               5.3  2009-06-26 08:22:21 UTC        -73.976124   \n",
      "4              16.0  2014-08-28 17:47:00 UTC        -73.925023   \n",
      "...             ...                      ...               ...   \n",
      "199995          3.0  2012-10-28 10:49:00 UTC        -73.987042   \n",
      "199996          7.5  2014-03-14 01:09:00 UTC        -73.984722   \n",
      "199997         30.9  2009-06-29 00:42:00 UTC        -73.986017   \n",
      "199998         14.5  2015-05-20 14:56:25 UTC        -73.997124   \n",
      "199999         14.1  2010-05-15 04:08:00 UTC        -73.984395   \n",
      "\n",
      "        pickup_latitude  dropoff_longitude  dropoff_latitude  passenger_count  \n",
      "0             40.738354         -73.999512         40.723217                1  \n",
      "1             40.728225         -73.994710         40.750325                1  \n",
      "2             40.740770         -73.962565         40.772647                1  \n",
      "3             40.790844         -73.965316         40.803349                3  \n",
      "4             40.744085         -73.973082         40.761247                5  \n",
      "...                 ...                ...               ...              ...  \n",
      "199995        40.739367         -73.986525         40.740297                1  \n",
      "199996        40.736837         -74.006672         40.739620                1  \n",
      "199997        40.756487         -73.858957         40.692588                2  \n",
      "199998        40.725452         -73.983215         40.695415                1  \n",
      "199999        40.720077         -73.985508         40.768793                1  \n",
      "\n",
      "[200000 rows x 7 columns]\n",
      "SHAPE of data set (200000, 7)\n",
      "\n",
      "COLOUMNS Index(['fare_amount', 'pickup_datetime', 'pickup_longitude', 'pickup_latitude',\n",
      "       'dropoff_longitude', 'dropoff_latitude', 'passenger_count'],\n",
      "      dtype='object')\n",
      "\n",
      "<class 'pandas.core.frame.DataFrame'>\n",
      "RangeIndex: 200000 entries, 0 to 199999\n",
      "Data columns (total 7 columns):\n",
      " #   Column             Non-Null Count   Dtype  \n",
      "---  ------             --------------   -----  \n",
      " 0   fare_amount        200000 non-null  float64\n",
      " 1   pickup_datetime    200000 non-null  object \n",
      " 2   pickup_longitude   200000 non-null  float64\n",
      " 3   pickup_latitude    200000 non-null  float64\n",
      " 4   dropoff_longitude  199999 non-null  float64\n",
      " 5   dropoff_latitude   199999 non-null  float64\n",
      " 6   passenger_count    200000 non-null  int64  \n",
      "dtypes: float64(5), int64(1), object(1)\n",
      "memory usage: 10.7+ MB\n",
      "INFO None\n",
      "\n",
      "DATATYPES fare_amount          float64\n",
      "pickup_datetime       object\n",
      "pickup_longitude     float64\n",
      "pickup_latitude      float64\n",
      "dropoff_longitude    float64\n",
      "dropoff_latitude     float64\n",
      "passenger_count        int64\n",
      "dtype: object\n"
     ]
    }
   ],
   "source": [
    "#reading dataset\n",
    "df=pd.read_csv(\"uber.csv\")\n",
    "print(\"DATASET\",df.head(5))\n",
    "print()\n",
    "print()\n",
    "#dataset has 2 additional coloumns so drop the unwanted 2\n",
    "df=df.drop([\"key\",\"Unnamed: 0\"],axis=1)\n",
    "print(\" 7 coloumn DATASET\",df)\n",
    "#check the basics like shape ,coloumn names,info,datatypes \n",
    "print(\"SHAPE of data set\",df.shape)\n",
    "print()\n",
    "print(\"COLOUMNS\",df.columns)\n",
    "print()\n",
    "print(\"INFO\",df.info())\n",
    "print()\n",
    "print(\"DATATYPES\",df.dtypes)"
   ]
  },
  {
   "cell_type": "code",
   "execution_count": 3,
   "id": "2c29f896",
   "metadata": {
    "scrolled": false
   },
   "outputs": [
    {
     "name": "stdout",
     "output_type": "stream",
     "text": [
      "fare_amount                      float64\n",
      "pickup_datetime      datetime64[ns, UTC]\n",
      "pickup_longitude                 float64\n",
      "pickup_latitude                  float64\n",
      "dropoff_longitude                float64\n",
      "dropoff_latitude                 float64\n",
      "passenger_count                    int64\n",
      "dtype: object\n",
      "\n",
      "         fare_amount  pickup_longitude  pickup_latitude  dropoff_longitude  \\\n",
      "count  200000.000000     200000.000000    200000.000000      199999.000000   \n",
      "mean       11.359955        -72.527638        39.935885         -72.525292   \n",
      "std         9.901776         11.437787         7.720539          13.117408   \n",
      "min       -52.000000      -1340.648410       -74.015515       -3356.666300   \n",
      "25%         6.000000        -73.992065        40.734796         -73.991407   \n",
      "50%         8.500000        -73.981823        40.752592         -73.980093   \n",
      "75%        12.500000        -73.967154        40.767158         -73.963658   \n",
      "max       499.000000         57.418457      1644.421482        1153.572603   \n",
      "\n",
      "       dropoff_latitude  passenger_count  \n",
      "count     199999.000000    200000.000000  \n",
      "mean          39.923890         1.684535  \n",
      "std            6.794829         1.385997  \n",
      "min         -881.985513         0.000000  \n",
      "25%           40.733823         1.000000  \n",
      "50%           40.753042         1.000000  \n",
      "75%           40.768001         2.000000  \n",
      "max          872.697628       208.000000  \n"
     ]
    }
   ],
   "source": [
    "#pickup_datetime is object type convert to datetime type\n",
    "df[\"pickup_datetime\"]=pd.to_datetime(df[\"pickup_datetime\"])\n",
    "#check converted type\n",
    "print(df.dtypes)\n",
    "print()\n",
    "print(df.describe())"
   ]
  },
  {
   "cell_type": "code",
   "execution_count": 4,
   "id": "ff265036",
   "metadata": {},
   "outputs": [
    {
     "data": {
      "text/plain": [
       "fare_amount          0\n",
       "pickup_datetime      0\n",
       "pickup_longitude     0\n",
       "pickup_latitude      0\n",
       "dropoff_longitude    1\n",
       "dropoff_latitude     1\n",
       "passenger_count      0\n",
       "dtype: int64"
      ]
     },
     "execution_count": 4,
     "metadata": {},
     "output_type": "execute_result"
    }
   ],
   "source": [
    "#null values\n",
    "df.isnull()\n",
    "df.isnull().sum()"
   ]
  },
  {
   "cell_type": "code",
   "execution_count": 5,
   "id": "8368f21a",
   "metadata": {},
   "outputs": [
    {
     "data": {
      "text/plain": [
       "fare_amount          0\n",
       "pickup_datetime      0\n",
       "pickup_longitude     0\n",
       "pickup_latitude      0\n",
       "dropoff_longitude    0\n",
       "dropoff_latitude     0\n",
       "passenger_count      0\n",
       "dtype: int64"
      ]
     },
     "execution_count": 5,
     "metadata": {},
     "output_type": "execute_result"
    }
   ],
   "source": [
    "#drop null values\n",
    "df.dropna(inplace=True)\n",
    "df.isnull().sum()"
   ]
  },
  {
   "cell_type": "code",
   "execution_count": 20,
   "id": "043c97e6",
   "metadata": {},
   "outputs": [
    {
     "name": "stdout",
     "output_type": "stream",
     "text": [
      "                   fare_amount  pickup_datetime  pickup_longitude  \\\n",
      "fare_amount               1.00             0.12              0.01   \n",
      "pickup_datetime           0.12             1.00              0.01   \n",
      "pickup_longitude          0.01             0.01              1.00   \n",
      "pickup_latitude          -0.01            -0.01             -0.82   \n",
      "dropoff_longitude         0.01             0.01              0.83   \n",
      "dropoff_latitude         -0.01            -0.01             -0.85   \n",
      "passenger_count           0.01             0.01             -0.00   \n",
      "hour                     -0.02             0.00              0.00   \n",
      "day                       0.00            -0.00              0.01   \n",
      "weekday                  -0.01            -0.00             -0.00   \n",
      "month                     0.02             0.04             -0.00   \n",
      "year                      0.12             0.99              0.01   \n",
      "\n",
      "                   pickup_latitude  dropoff_longitude  dropoff_latitude  \\\n",
      "fare_amount                  -0.01               0.01             -0.01   \n",
      "pickup_datetime              -0.01               0.01             -0.01   \n",
      "pickup_longitude             -0.82               0.83             -0.85   \n",
      "pickup_latitude               1.00              -0.77              0.70   \n",
      "dropoff_longitude            -0.77               1.00             -0.92   \n",
      "dropoff_latitude              0.70              -0.92              1.00   \n",
      "passenger_count              -0.00               0.00             -0.00   \n",
      "hour                         -0.00               0.00             -0.00   \n",
      "day                          -0.01               0.01             -0.01   \n",
      "weekday                      -0.00              -0.00             -0.00   \n",
      "month                         0.00              -0.00              0.00   \n",
      "year                         -0.01               0.01             -0.01   \n",
      "\n",
      "                   passenger_count  hour   day  weekday  month  year  \n",
      "fare_amount                   0.01 -0.02  0.00    -0.01   0.02  0.12  \n",
      "pickup_datetime               0.01  0.00 -0.00    -0.00   0.04  0.99  \n",
      "pickup_longitude             -0.00  0.00  0.01    -0.00  -0.00  0.01  \n",
      "pickup_latitude              -0.00 -0.00 -0.01    -0.00   0.00 -0.01  \n",
      "dropoff_longitude             0.00  0.00  0.01    -0.00  -0.00  0.01  \n",
      "dropoff_latitude             -0.00 -0.00 -0.01    -0.00   0.00 -0.01  \n",
      "passenger_count               1.00  0.01  0.00     0.01   0.01  0.00  \n",
      "hour                          0.01  1.00  0.00     0.03  -0.00  0.00  \n",
      "day                           0.00  0.00  1.00     0.01  -0.02 -0.01  \n",
      "weekday                       0.01  0.03  0.01     1.00  -0.00 -0.00  \n",
      "month                         0.01 -0.00 -0.02    -0.00   1.00 -0.12  \n",
      "year                          0.00  0.00 -0.01    -0.00  -0.12  1.00  \n"
     ]
    }
   ],
   "source": [
    "#To show correlation between variable find correlation matrix and then plot a heat map\n",
    "cormat=df.corr()\n",
    "print(cormat.round(2))"
   ]
  },
  {
   "cell_type": "code",
   "execution_count": 7,
   "id": "45c1bede",
   "metadata": {},
   "outputs": [
    {
     "data": {
      "text/plain": [
       "<AxesSubplot:>"
      ]
     },
     "execution_count": 7,
     "metadata": {},
     "output_type": "execute_result"
    },
    {
     "data": {
      "image/png": "[encoded data removed]",
      "text/plain": [
       "<Figure size 432x288 with 2 Axes>"
      ]
     },
     "metadata": {
      "needs_background": "light"
     },
     "output_type": "display_data"
    }
   ],
   "source": [
    "sns.heatmap(cormat)"
   ]
  },
  {
   "cell_type": "code",
   "execution_count": 8,
   "id": "8af2b797",
   "metadata": {},
   "outputs": [],
   "source": [
    "import calendar\n",
    "df[\"hour\"]=df[\"pickup_datetime\"].apply(lambda x:x.hour)\n",
    "df[\"day\"]=df[\"pickup_datetime\"].apply(lambda x:x.day)\n",
    "df[\"weekday\"]=df[\"pickup_datetime\"].apply(lambda x:calendar.day_name[x.weekday()])\n",
    "df[\"month\"]=df[\"pickup_datetime\"].apply(lambda x:x.month)\n",
    "df[\"year\"]=df[\"pickup_datetime\"].apply(lambda x:x.year)"
   ]
  },
  {
   "cell_type": "code",
   "execution_count": 9,
   "id": "318d69ee",
   "metadata": {},
   "outputs": [
    {
     "data": {
      "text/html": [
       "<div>\n",
       "<style scoped>\n",
       "    .dataframe tbody tr th:only-of-type {\n",
       "        vertical-align: middle;\n",
       "    }\n",
       "\n",
       "    .dataframe tbody tr th {\n",
       "        vertical-align: top;\n",
       "    }\n",
       "\n",
       "    .dataframe thead th {\n",
       "        text-align: right;\n",
       "    }\n",
       "</style>\n",
       "<table border=\"1\" class=\"dataframe\">\n",
       "  <thead>\n",
       "    <tr style=\"text-align: right;\">\n",
       "      <th></th>\n",
       "      <th>fare_amount</th>\n",
       "      <th>pickup_datetime</th>\n",
       "      <th>pickup_longitude</th>\n",
       "      <th>pickup_latitude</th>\n",
       "      <th>dropoff_longitude</th>\n",
       "      <th>dropoff_latitude</th>\n",
       "      <th>passenger_count</th>\n",
       "      <th>hour</th>\n",
       "      <th>day</th>\n",
       "      <th>weekday</th>\n",
       "      <th>month</th>\n",
       "      <th>year</th>\n",
       "    </tr>\n",
       "  </thead>\n",
       "  <tbody>\n",
       "    <tr>\n",
       "      <th>0</th>\n",
       "      <td>7.5</td>\n",
       "      <td>2015-05-07 19:52:06+00:00</td>\n",
       "      <td>-73.999817</td>\n",
       "      <td>40.738354</td>\n",
       "      <td>-73.999512</td>\n",
       "      <td>40.723217</td>\n",
       "      <td>1</td>\n",
       "      <td>19</td>\n",
       "      <td>7</td>\n",
       "      <td>Thursday</td>\n",
       "      <td>5</td>\n",
       "      <td>2015</td>\n",
       "    </tr>\n",
       "    <tr>\n",
       "      <th>1</th>\n",
       "      <td>7.7</td>\n",
       "      <td>2009-07-17 20:04:56+00:00</td>\n",
       "      <td>-73.994355</td>\n",
       "      <td>40.728225</td>\n",
       "      <td>-73.994710</td>\n",
       "      <td>40.750325</td>\n",
       "      <td>1</td>\n",
       "      <td>20</td>\n",
       "      <td>17</td>\n",
       "      <td>Friday</td>\n",
       "      <td>7</td>\n",
       "      <td>2009</td>\n",
       "    </tr>\n",
       "    <tr>\n",
       "      <th>2</th>\n",
       "      <td>12.9</td>\n",
       "      <td>2009-08-24 21:45:00+00:00</td>\n",
       "      <td>-74.005043</td>\n",
       "      <td>40.740770</td>\n",
       "      <td>-73.962565</td>\n",
       "      <td>40.772647</td>\n",
       "      <td>1</td>\n",
       "      <td>21</td>\n",
       "      <td>24</td>\n",
       "      <td>Monday</td>\n",
       "      <td>8</td>\n",
       "      <td>2009</td>\n",
       "    </tr>\n",
       "    <tr>\n",
       "      <th>3</th>\n",
       "      <td>5.3</td>\n",
       "      <td>2009-06-26 08:22:21+00:00</td>\n",
       "      <td>-73.976124</td>\n",
       "      <td>40.790844</td>\n",
       "      <td>-73.965316</td>\n",
       "      <td>40.803349</td>\n",
       "      <td>3</td>\n",
       "      <td>8</td>\n",
       "      <td>26</td>\n",
       "      <td>Friday</td>\n",
       "      <td>6</td>\n",
       "      <td>2009</td>\n",
       "    </tr>\n",
       "    <tr>\n",
       "      <th>4</th>\n",
       "      <td>16.0</td>\n",
       "      <td>2014-08-28 17:47:00+00:00</td>\n",
       "      <td>-73.925023</td>\n",
       "      <td>40.744085</td>\n",
       "      <td>-73.973082</td>\n",
       "      <td>40.761247</td>\n",
       "      <td>5</td>\n",
       "      <td>17</td>\n",
       "      <td>28</td>\n",
       "      <td>Thursday</td>\n",
       "      <td>8</td>\n",
       "      <td>2014</td>\n",
       "    </tr>\n",
       "  </tbody>\n",
       "</table>\n",
       "</div>"
      ],
      "text/plain": [
       "   fare_amount           pickup_datetime  pickup_longitude  pickup_latitude  \\\n",
       "0          7.5 2015-05-07 19:52:06+00:00        -73.999817        40.738354   \n",
       "1          7.7 2009-07-17 20:04:56+00:00        -73.994355        40.728225   \n",
       "2         12.9 2009-08-24 21:45:00+00:00        -74.005043        40.740770   \n",
       "3          5.3 2009-06-26 08:22:21+00:00        -73.976124        40.790844   \n",
       "4         16.0 2014-08-28 17:47:00+00:00        -73.925023        40.744085   \n",
       "\n",
       "   dropoff_longitude  dropoff_latitude  passenger_count  hour  day   weekday  \\\n",
       "0         -73.999512         40.723217                1    19    7  Thursday   \n",
       "1         -73.994710         40.750325                1    20   17    Friday   \n",
       "2         -73.962565         40.772647                1    21   24    Monday   \n",
       "3         -73.965316         40.803349                3     8   26    Friday   \n",
       "4         -73.973082         40.761247                5    17   28  Thursday   \n",
       "\n",
       "   month  year  \n",
       "0      5  2015  \n",
       "1      7  2009  \n",
       "2      8  2009  \n",
       "3      6  2009  \n",
       "4      8  2014  "
      ]
     },
     "execution_count": 9,
     "metadata": {},
     "output_type": "execute_result"
    }
   ],
   "source": [
    "df.head()"
   ]
  },
  {
   "cell_type": "code",
   "execution_count": 10,
   "id": "4f63e530",
   "metadata": {},
   "outputs": [],
   "source": [
    "df.weekday=df.weekday.map({\"Sunday\":0,\"Monday\":1,\"Tuesday\":2,\"Wednesday\":3,\"Thursday\":4,\"Friday\":5,\"Saturday\":6})"
   ]
  },
  {
   "cell_type": "code",
   "execution_count": 11,
   "id": "250fb3e0",
   "metadata": {},
   "outputs": [
    {
     "data": {
      "text/html": [
       "<div>\n",
       "<style scoped>\n",
       "    .dataframe tbody tr th:only-of-type {\n",
       "        vertical-align: middle;\n",
       "    }\n",
       "\n",
       "    .dataframe tbody tr th {\n",
       "        vertical-align: top;\n",
       "    }\n",
       "\n",
       "    .dataframe thead th {\n",
       "        text-align: right;\n",
       "    }\n",
       "</style>\n",
       "<table border=\"1\" class=\"dataframe\">\n",
       "  <thead>\n",
       "    <tr style=\"text-align: right;\">\n",
       "      <th></th>\n",
       "      <th>fare_amount</th>\n",
       "      <th>pickup_datetime</th>\n",
       "      <th>pickup_longitude</th>\n",
       "      <th>pickup_latitude</th>\n",
       "      <th>dropoff_longitude</th>\n",
       "      <th>dropoff_latitude</th>\n",
       "      <th>passenger_count</th>\n",
       "      <th>hour</th>\n",
       "      <th>day</th>\n",
       "      <th>weekday</th>\n",
       "      <th>month</th>\n",
       "      <th>year</th>\n",
       "    </tr>\n",
       "  </thead>\n",
       "  <tbody>\n",
       "    <tr>\n",
       "      <th>0</th>\n",
       "      <td>7.5</td>\n",
       "      <td>2015-05-07 19:52:06+00:00</td>\n",
       "      <td>-73.999817</td>\n",
       "      <td>40.738354</td>\n",
       "      <td>-73.999512</td>\n",
       "      <td>40.723217</td>\n",
       "      <td>1</td>\n",
       "      <td>19</td>\n",
       "      <td>7</td>\n",
       "      <td>4</td>\n",
       "      <td>5</td>\n",
       "      <td>2015</td>\n",
       "    </tr>\n",
       "    <tr>\n",
       "      <th>1</th>\n",
       "      <td>7.7</td>\n",
       "      <td>2009-07-17 20:04:56+00:00</td>\n",
       "      <td>-73.994355</td>\n",
       "      <td>40.728225</td>\n",
       "      <td>-73.994710</td>\n",
       "      <td>40.750325</td>\n",
       "      <td>1</td>\n",
       "      <td>20</td>\n",
       "      <td>17</td>\n",
       "      <td>5</td>\n",
       "      <td>7</td>\n",
       "      <td>2009</td>\n",
       "    </tr>\n",
       "    <tr>\n",
       "      <th>2</th>\n",
       "      <td>12.9</td>\n",
       "      <td>2009-08-24 21:45:00+00:00</td>\n",
       "      <td>-74.005043</td>\n",
       "      <td>40.740770</td>\n",
       "      <td>-73.962565</td>\n",
       "      <td>40.772647</td>\n",
       "      <td>1</td>\n",
       "      <td>21</td>\n",
       "      <td>24</td>\n",
       "      <td>1</td>\n",
       "      <td>8</td>\n",
       "      <td>2009</td>\n",
       "    </tr>\n",
       "    <tr>\n",
       "      <th>3</th>\n",
       "      <td>5.3</td>\n",
       "      <td>2009-06-26 08:22:21+00:00</td>\n",
       "      <td>-73.976124</td>\n",
       "      <td>40.790844</td>\n",
       "      <td>-73.965316</td>\n",
       "      <td>40.803349</td>\n",
       "      <td>3</td>\n",
       "      <td>8</td>\n",
       "      <td>26</td>\n",
       "      <td>5</td>\n",
       "      <td>6</td>\n",
       "      <td>2009</td>\n",
       "    </tr>\n",
       "    <tr>\n",
       "      <th>4</th>\n",
       "      <td>16.0</td>\n",
       "      <td>2014-08-28 17:47:00+00:00</td>\n",
       "      <td>-73.925023</td>\n",
       "      <td>40.744085</td>\n",
       "      <td>-73.973082</td>\n",
       "      <td>40.761247</td>\n",
       "      <td>5</td>\n",
       "      <td>17</td>\n",
       "      <td>28</td>\n",
       "      <td>4</td>\n",
       "      <td>8</td>\n",
       "      <td>2014</td>\n",
       "    </tr>\n",
       "  </tbody>\n",
       "</table>\n",
       "</div>"
      ],
      "text/plain": [
       "   fare_amount           pickup_datetime  pickup_longitude  pickup_latitude  \\\n",
       "0          7.5 2015-05-07 19:52:06+00:00        -73.999817        40.738354   \n",
       "1          7.7 2009-07-17 20:04:56+00:00        -73.994355        40.728225   \n",
       "2         12.9 2009-08-24 21:45:00+00:00        -74.005043        40.740770   \n",
       "3          5.3 2009-06-26 08:22:21+00:00        -73.976124        40.790844   \n",
       "4         16.0 2014-08-28 17:47:00+00:00        -73.925023        40.744085   \n",
       "\n",
       "   dropoff_longitude  dropoff_latitude  passenger_count  hour  day  weekday  \\\n",
       "0         -73.999512         40.723217                1    19    7        4   \n",
       "1         -73.994710         40.750325                1    20   17        5   \n",
       "2         -73.962565         40.772647                1    21   24        1   \n",
       "3         -73.965316         40.803349                3     8   26        5   \n",
       "4         -73.973082         40.761247                5    17   28        4   \n",
       "\n",
       "   month  year  \n",
       "0      5  2015  \n",
       "1      7  2009  \n",
       "2      8  2009  \n",
       "3      6  2009  \n",
       "4      8  2014  "
      ]
     },
     "execution_count": 11,
     "metadata": {},
     "output_type": "execute_result"
    }
   ],
   "source": [
    "df.head()"
   ]
  },
  {
   "cell_type": "code",
   "execution_count": 12,
   "id": "2ced0578",
   "metadata": {},
   "outputs": [
    {
     "name": "stdout",
     "output_type": "stream",
     "text": [
      "<class 'pandas.core.frame.DataFrame'>\n",
      "Int64Index: 199999 entries, 0 to 199999\n",
      "Data columns (total 12 columns):\n",
      " #   Column             Non-Null Count   Dtype              \n",
      "---  ------             --------------   -----              \n",
      " 0   fare_amount        199999 non-null  float64            \n",
      " 1   pickup_datetime    199999 non-null  datetime64[ns, UTC]\n",
      " 2   pickup_longitude   199999 non-null  float64            \n",
      " 3   pickup_latitude    199999 non-null  float64            \n",
      " 4   dropoff_longitude  199999 non-null  float64            \n",
      " 5   dropoff_latitude   199999 non-null  float64            \n",
      " 6   passenger_count    199999 non-null  int64              \n",
      " 7   hour               199999 non-null  int64              \n",
      " 8   day                199999 non-null  int64              \n",
      " 9   weekday            199999 non-null  int64              \n",
      " 10  month              199999 non-null  int64              \n",
      " 11  year               199999 non-null  int64              \n",
      "dtypes: datetime64[ns, UTC](1), float64(5), int64(6)\n",
      "memory usage: 19.8 MB\n"
     ]
    }
   ],
   "source": [
    "df.info()"
   ]
  },
  {
   "cell_type": "code",
   "execution_count": 24,
   "id": "8a99ecb6",
   "metadata": {},
   "outputs": [
    {
     "name": "stdout",
     "output_type": "stream",
     "text": [
      "(199999, 12)\n"
     ]
    },
    {
     "data": {
      "text/plain": [
       "fare_amount          float64\n",
       "pickup_datetime        int64\n",
       "pickup_longitude     float64\n",
       "pickup_latitude      float64\n",
       "dropoff_longitude    float64\n",
       "dropoff_latitude     float64\n",
       "passenger_count        int64\n",
       "hour                   int64\n",
       "day                    int64\n",
       "weekday                int64\n",
       "month                  int64\n",
       "year                   int64\n",
       "dtype: object"
      ]
     },
     "execution_count": 24,
     "metadata": {},
     "output_type": "execute_result"
    }
   ],
   "source": [
    "print(df.shape)\n",
    "df[\"pickup_datetime\"]=pd.to_numeric(df.pickup_datetime)\n",
    "df.dtypes"
   ]
  },
  {
   "cell_type": "code",
   "execution_count": 14,
   "id": "989bc3fd",
   "metadata": {},
   "outputs": [],
   "source": [
    "#model build\n",
    "from sklearn.model_selection import train_test_split\n",
    "x=df.drop(\"fare_amount\",axis=1)#x=df.iloc[:,:-1]\n",
    "y=df.fare_amount#y=df.iloc[:,-1]\n",
    "\n",
    "x_train,x_test,y_train,y_test=train_test_split(x,y,test_size=0.2,random_state=0)\n"
   ]
  },
  {
   "cell_type": "code",
   "execution_count": 15,
   "id": "de7997bc",
   "metadata": {},
   "outputs": [
    {
     "name": "stdout",
     "output_type": "stream",
     "text": [
      "Predicted Values [ 9.80595731 11.95157306 11.19441039 ... 11.37939557 11.97723719\n",
      " 11.80060806]\n"
     ]
    }
   ],
   "source": [
    "from sklearn.linear_model import LinearRegression\n",
    "lr=LinearRegression()\n",
    "lr.fit(x_train,y_train)\n",
    "pred=lr.predict(x_test)\n",
    "print(\"Predicted Values\",pred)"
   ]
  },
  {
   "cell_type": "code",
   "execution_count": 16,
   "id": "ebf8428d",
   "metadata": {},
   "outputs": [
    {
     "name": "stdout",
     "output_type": "stream",
     "text": [
      "9.983351503673067\n",
      "-66.21028496142559\n",
      "5.964219908447942\n"
     ]
    }
   ],
   "source": [
    "#metrics\n",
    "from sklearn.metrics import mean_squared_error,r2_score\n",
    "print(np.sqrt(mean_squared_error(pred,y_test)))\n",
    "print(r2_score(pred,y_test))\n",
    "\n"
   ]
  },
  {
   "cell_type": "code",
   "execution_count": 17,
   "id": "0d64cf74",
   "metadata": {},
   "outputs": [
    {
     "name": "stdout",
     "output_type": "stream",
     "text": [
      "[ 7.242  21.4433  6.742  ... 30.6019 18.8161  8.296 ]\n"
     ]
    }
   ],
   "source": [
    "from sklearn.ensemble import RandomForestRegressor\n",
    "re=RandomForestRegressor()\n",
    "re.fit(x_train,y_train)\n",
    "predi=re.predict(x_test)\n",
    "print(predi)"
   ]
  },
  {
   "cell_type": "code",
   "execution_count": 18,
   "id": "9cde406e",
   "metadata": {},
   "outputs": [],
   "source": [
    "rmse=np.sqrt(mean_squared_error(predi,y_test))"
   ]
  },
  {
   "cell_type": "code",
   "execution_count": 19,
   "id": "acb6f041",
   "metadata": {},
   "outputs": [
    {
     "name": "stdout",
     "output_type": "stream",
     "text": [
      "4.86451853645134\n",
      "0.6864912335908628\n"
     ]
    }
   ],
   "source": [
    "print(rmse)\n",
    "print(r2_score(predi,y_test))"
   ]
  },
  {
   "cell_type": "code",
   "execution_count": null,
   "id": "d60e342d",
   "metadata": {},
   "outputs": [],
   "source": []
  }
 ],
 "metadata": {
  "kernelspec": {
   "display_name": "Python 3.9.7 64-bit",
   "language": "python",
   "name": "python3"
  },
  "language_info": {
   "codemirror_mode": {
    "name": "ipython",
    "version": 3
   },
   "file_extension": ".py",
   "mimetype": "text/x-python",
   "name": "python",
   "nbconvert_exporter": "python",
   "pygments_lexer": "ipython3",
   "version": "3.9.7"
  },
  "vscode": {
   "interpreter": {
    "hash": "19d1d53a962d236aa061289c2ac16dc8e6d9648c89fe79f459ae9a3493bc67b4"
   }
  }
 },
 "nbformat": 4,
 "nbformat_minor": 5
}
